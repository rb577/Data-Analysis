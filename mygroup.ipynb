{
 "cells": [
  {
   "cell_type": "code",
   "execution_count": 14,
   "id": "d8fcdafb-97d3-49ff-a27d-caec3a8f5056",
   "metadata": {},
   "outputs": [
    {
     "data": {
      "text/plain": [
       "(19696, 49)"
      ]
     },
     "execution_count": 14,
     "metadata": {},
     "output_type": "execute_result"
    }
   ],
   "source": [
    "import pandas as pd\n",
    "import matplotlib.pyplot as plt\n",
    "import numpy as np\n",
    "import seaborn as sns\n",
    "from xgboost import XGBClassifier\n",
    "df = pd.read_csv(\"/s_home/rb577/Downloads/diabetic_data/diabetic_data/diabetic_data.csv\")\n",
    "df.head(3)\n",
    "\n",
    "df.shape\n",
    "\n",
    "df.replace('?', np.nan, inplace = True)\n",
    "\n",
    "df.head(3)\n",
    "df.shape\n",
    "\n",
    "count = int(0.5*df.shape[0] + 1)\n",
    "df = df.dropna(axis=1,thresh=count)\n",
    "\n",
    "df.head(3)\n",
    "df.shape\n",
    "\n",
    "df['age'] = df['age'].str.extract('(\\d+)-(\\d+)').astype('int').median(axis=1).astype('int')\n",
    "\n",
    "df.head(3)\n",
    "\n",
    "df.isnull().sum()\n",
    "\n",
    "df.dtypes\n",
    "\n",
    "df.isnull().sum()\n",
    "\n",
    "df['diag_1']=df['diag_1'].replace(np.nan, '0', inplace = False)\n",
    "\n",
    "df.isnull().sum()\n",
    "\n",
    "df['diag_2']=df['diag_2'].fillna(0)\n",
    "\n",
    "df['diag_3']=df['diag_3'].fillna(0)\n",
    "\n",
    "df.isnull().sum()\n",
    "df.shape\n",
    "\n",
    "df = df.dropna(axis=0, how='any', inplace=False)\n",
    "\n",
    "df.shape\n",
    "\n",
    "numerics = df.select_dtypes(include=np.number).columns.tolist()\n",
    "df_n = numerics = df.select_dtypes(include=np.number)\n",
    "categories = df.select_dtypes(exclude = np.number).columns.tolist()\n",
    "categories\n",
    "\n",
    "\n",
    "\n",
    "\n",
    "for i in df_n:\n",
    "    u =  df[i].mean() + 3*df[i].std()\n",
    "    l =  df[i].mean() - 3*df[i].std()\n",
    "    df_u = df[df_n[i] < u] \n",
    "    df_l = df[df_n[i] > l]\n",
    "\n",
    "df_new = pd.merge(df_u,df_l)\n",
    "\n",
    "df_new.shape\n",
    "\n",
    "df_new = df_new.drop_duplicates(subset = ['patient_nbr'])\n",
    "\n",
    "df_new.shape"
   ]
  },
  {
   "cell_type": "code",
   "execution_count": 44,
   "id": "bee2b6ad-1797-4762-b520-115bd8bcda57",
   "metadata": {},
   "outputs": [
    {
     "data": {
      "image/png": "[encoded data removed]",
      "text/plain": [
       "<Figure size 864x216 with 2 Axes>"
      ]
     },
     "metadata": {
      "needs_background": "light"
     },
     "output_type": "display_data"
    },
    {
     "data": {
      "image/png": "[encoded data removed]",
      "text/plain": [
       "<Figure size 864x216 with 2 Axes>"
      ]
     },
     "metadata": {
      "needs_background": "light"
     },
     "output_type": "display_data"
    },
    {
     "data": {
      "image/png": "[encoded data removed]",
      "text/plain": [
       "<Figure size 864x216 with 2 Axes>"
      ]
     },
     "metadata": {
      "needs_background": "light"
     },
     "output_type": "display_data"
    },
    {
     "data": {
      "image/png": "[encoded data removed]",
      "text/plain": [
       "<Figure size 864x216 with 2 Axes>"
      ]
     },
     "metadata": {
      "needs_background": "light"
     },
     "output_type": "display_data"
    }
   ],
   "source": [
    "df_new.head(3)\n",
    "\n",
    "df_new['readmitted'].replace('NO', '0', inplace = True)\n",
    "\n",
    "df_new['readmitted'].mask(df_new['readmitted'] != '0', 1, inplace=True)\n",
    "\n",
    "df_new['readmitted']\n",
    "\n",
    "def cond_hists(df, plot_cols, grid_col):  \n",
    "    for col in plot_cols:\n",
    "        g = sns.FacetGrid(df, col=grid_col, margin_titles=True, aspect=2.)\n",
    "        g.map(plt.hist, col)\n",
    "    plt.show() \n",
    "plot_cols2 = [\"race\",\n",
    "               \"age\",\n",
    "               \"diag_1\",\n",
    "               \"gender\"]\n",
    "cond_hists(df_new, plot_cols2, \"readmitted\")"
   ]
  },
  {
   "cell_type": "code",
   "execution_count": 133,
   "id": "c036cb09-924b-4c26-a8e8-e6bb02d8f4f4",
   "metadata": {},
   "outputs": [
    {
     "name": "stdout",
     "output_type": "stream",
     "text": [
      "X:  (27140, 10)\n",
      "Y:  (19696, 1)\n"
     ]
    }
   ],
   "source": [
    "col1 = [\"readmitted\"]\n",
    "col2 = ['num_medications', 'number_outpatient', 'number_emergency', 'time_in_hospital','number_inpatient','age','num_lab_procedures', 'number_diagnoses','num_procedures','encounter_id']\n",
    "x = df_new[col2].values.astype('int')\n",
    "y = df_new[col1].values.astype('int')\n",
    "\n",
    "print(\"X: \",X.shape)\n",
    "print(\"Y: \",y.shape)"
   ]
  },
  {
   "cell_type": "code",
   "execution_count": 29,
   "id": "75cbc382-e3aa-44e8-8178-8bb26a044d2b",
   "metadata": {},
   "outputs": [
    {
     "name": "stdout",
     "output_type": "stream",
     "text": [
      "Score against training data: 0.628078192434628\n",
      "Score against test data: 0.6154822335025381\n"
     ]
    },
    {
     "name": "stderr",
     "output_type": "stream",
     "text": [
      "/s_home/rb577/PycharmProjects/bigdata/venv/lib/python3.8/site-packages/sklearn/utils/validation.py:993: DataConversionWarning: A column-vector y was passed when a 1d array was expected. Please change the shape of y to (n_samples, ), for example using ravel().\n",
      "  y = column_or_1d(y, warn=True)\n"
     ]
    }
   ],
   "source": [
    "from sklearn.model_selection import train_test_split, cross_val_score\n",
    "x_train, x_test, y_train, y_test = train_test_split(x, y,test_size=0.2,random_state=0)\n",
    "clf.fit(x_train, y_train)\n",
    "print(\"Score against training data: {}\".format(clf.score(x_train, y_train)))\n",
    "print(\"Score against test data: {}\".format(clf.score(x_test, y_test)))"
   ]
  },
  {
   "cell_type": "code",
   "execution_count": 73,
   "id": "360ba540-5207-4186-9b55-6eefce000171",
   "metadata": {},
   "outputs": [
    {
     "name": "stdout",
     "output_type": "stream",
     "text": [
      "Model score:\n",
      " 0.568680913780398\n",
      "Intercept:\n",
      " [-3.98912660e-17  5.38042509e-19  3.93532235e-17]\n"
     ]
    }
   ],
   "source": [
    "from sklearn import linear_model, preprocessing\n",
    "clf = linear_model.LogisticRegression()\n",
    "X = df[col2]\n",
    "Y = df['readmitted']\n",
    "clf.fit(X, Y)\n",
    "print(\"Model score:\\n {}\".format(clf.score(X,Y)))\n",
    "print(\"Intercept:\\n {}\".format(clf.intercept_))"
   ]
  },
  {
   "cell_type": "code",
   "execution_count": 61,
   "id": "24fbbcbc-9594-4e74-95cb-57f289beca9d",
   "metadata": {},
   "outputs": [],
   "source": [
    "def matrix(y_test, y_pred)->float:\n",
    "    acc_score = accuracy_score(y_test, y_pred)\n",
    "    cm = confusion_matrix(y_test, y_pred)\n",
    "    sns.heatmap(cm, annot=True, fmt=\"d\",linewidths=2)\n",
    "    plt.title(f\"Accuracy: {acc_score:0.3f}\")\n",
    "    plt.xlabel(\"Predicted labels\")\n",
    "    plt.ylabel(\"Actual labels\")\n",
    "    plt.show()\n",
    "    return acc_score"
   ]
  },
  {
   "cell_type": "code",
   "execution_count": 62,
   "id": "9d077778-25cd-4b32-b61c-8bb925394cc3",
   "metadata": {},
   "outputs": [],
   "source": [
    "def clas(classifier, X_train=X_train, y_train=y_train,X_test=X_test, y_test=y_test)->float:\n",
    "    y_pred = classifier.predict(X_test)\n",
    "    acc_score = matrix(y_test, y_pred)\n",
    "    print(classification_report(y_test, y_pred))\n",
    "    return acc_score"
   ]
  },
  {
   "cell_type": "code",
   "execution_count": 63,
   "id": "e7b55a27-82fb-498c-b0ea-383bd855268f",
   "metadata": {},
   "outputs": [
    {
     "data": {
      "image/png": "[encoded data removed]",
      "text/plain": [
       "<Figure size 432x288 with 2 Axes>"
      ]
     },
     "metadata": {
      "needs_background": "light"
     },
     "output_type": "display_data"
    },
    {
     "name": "stdout",
     "output_type": "stream",
     "text": [
      "              precision    recall  f1-score   support\n",
      "\n",
      "           0       0.66      0.82      0.73      2425\n",
      "           1       0.53      0.32      0.40      1515\n",
      "\n",
      "    accuracy                           0.63      3940\n",
      "   macro avg       0.59      0.57      0.57      3940\n",
      "weighted avg       0.61      0.63      0.60      3940\n",
      "\n"
     ]
    }
   ],
   "source": [
    "xgb_clf = XGBClassifier(use_label_encoder=False,verbosity=0)\n",
    "xgb_clf = xgb_clf.fit(x_train,y_train)\n",
    "xgb_acc = clas(xgb_clf)"
   ]
  },
  {
   "cell_type": "code",
   "execution_count": 68,
   "id": "dce773c7-fca8-46fc-b51b-da3def24ae8e",
   "metadata": {},
   "outputs": [],
   "source": [
    "def kfold(clf, X_train=X_train, y_train=y_train)->(float, float):\n",
    "    score = cross_val_score(estimator=clf, X=X_train, y=y_train, cv=10 )#number of folds\n",
    "    mean = score.mean()\n",
    "    std = score.std()\n",
    "    print(f\"Mean Accuracy for : {mean*100:0.3f} %\")\n",
    "    print(f\"Standard Deviation : {std*100:0.3f} %\")\n",
    "    return mean, std"
   ]
  },
  {
   "cell_type": "code",
   "execution_count": 102,
   "id": "ed9c9dc2-4e47-480e-86cf-d1eb058533e5",
   "metadata": {},
   "outputs": [
    {
     "name": "stdout",
     "output_type": "stream",
     "text": [
      "Mean Accuracy for XGB classifier\n",
      "Mean Accuracy for : 64.763 %\n",
      "Standard Deviation : 1.298 %\n"
     ]
    },
    {
     "data": {
      "text/plain": [
       "(0.647627104987511, 0.012981420617580532)"
      ]
     },
     "execution_count": 102,
     "metadata": {},
     "output_type": "execute_result"
    }
   ],
   "source": [
    "print(\"Mean Accuracy for XGB classifier\")\n",
    "kfold(xgb_clf)"
   ]
  },
  {
   "cell_type": "code",
   "execution_count": 127,
   "id": "1cdcef01-be98-4e9a-8554-3532b898589d",
   "metadata": {},
   "outputs": [],
   "source": [
    "from sklearn.preprocessing import StandardScaler\n",
    "sc = StandardScaler()\n",
    "X_train = sc.fit_transform(X_train)\n",
    "X_test = sc.transform(X_test)"
   ]
  },
  {
   "cell_type": "code",
   "execution_count": 128,
   "id": "5eb44170-996f-45c2-b4f4-00801c162bad",
   "metadata": {},
   "outputs": [
    {
     "data": {
      "text/plain": [
       "KMeans(n_clusters=2)"
      ]
     },
     "execution_count": 128,
     "metadata": {},
     "output_type": "execute_result"
    }
   ],
   "source": [
    "from sklearn.cluster import KMeans\n",
    "model = KMeans(n_clusters =2,)\n",
    "model.fit(x,y)"
   ]
  },
  {
   "cell_type": "code",
   "execution_count": 129,
   "id": "bee1a313-3ff9-487e-94f9-2f19146f6f00",
   "metadata": {},
   "outputs": [
    {
     "data": {
      "text/plain": [
       "Text(0, 0.5, 'number_inpatient')"
      ]
     },
     "execution_count": 129,
     "metadata": {},
     "output_type": "execute_result"
    },
    {
     "data": {
      "image/png": "[encoded data removed]",
      "text/plain": [
       "<Figure size 432x288 with 1 Axes>"
      ]
     },
     "metadata": {
      "needs_background": "light"
     },
     "output_type": "display_data"
    }
   ],
   "source": [
    "k = model.predict(X_test)\n",
    "plt.scatter(df_n.number_emergency,df_n['number_inpatient'])\n",
    "plt.xlabel('number_emergency')\n",
    "plt.ylabel('number_inpatient')"
   ]
  },
  {
   "cell_type": "code",
   "execution_count": 130,
   "id": "410fe068-da14-4409-bcad-e99f3a341f05",
   "metadata": {},
   "outputs": [
    {
     "data": {
      "text/plain": [
       "array([0, 0, 0, ..., 0, 0, 0], dtype=int32)"
      ]
     },
     "execution_count": 130,
     "metadata": {},
     "output_type": "execute_result"
    }
   ],
   "source": [
    "y_pred = model.fit_predict(df_n[['number_emergency','number_inpatient']])\n",
    "y_pred"
   ]
  },
  {
   "cell_type": "code",
   "execution_count": 131,
   "id": "e8bc9fef-6e78-4428-8ce5-c8039cf6c36f",
   "metadata": {},
   "outputs": [
    {
     "data": {
      "text/html": [
       "<div>\n",
       "<style scoped>\n",
       "    .dataframe tbody tr th:only-of-type {\n",
       "        vertical-align: middle;\n",
       "    }\n",
       "\n",
       "    .dataframe tbody tr th {\n",
       "        vertical-align: top;\n",
       "    }\n",
       "\n",
       "    .dataframe thead th {\n",
       "        text-align: right;\n",
       "    }\n",
       "</style>\n",
       "<table border=\"1\" class=\"dataframe\">\n",
       "  <thead>\n",
       "    <tr style=\"text-align: right;\">\n",
       "      <th></th>\n",
       "      <th>encounter_id</th>\n",
       "      <th>patient_nbr</th>\n",
       "      <th>age</th>\n",
       "      <th>admission_type_id</th>\n",
       "      <th>discharge_disposition_id</th>\n",
       "      <th>admission_source_id</th>\n",
       "      <th>time_in_hospital</th>\n",
       "      <th>num_lab_procedures</th>\n",
       "      <th>num_procedures</th>\n",
       "      <th>num_medications</th>\n",
       "      <th>number_outpatient</th>\n",
       "      <th>number_emergency</th>\n",
       "      <th>number_inpatient</th>\n",
       "      <th>number_diagnoses</th>\n",
       "      <th>clust</th>\n",
       "      <th>clusters</th>\n",
       "      <th>cluster</th>\n",
       "    </tr>\n",
       "  </thead>\n",
       "  <tbody>\n",
       "    <tr>\n",
       "      <th>20446</th>\n",
       "      <td>72091308</td>\n",
       "      <td>20123568</td>\n",
       "      <td>75</td>\n",
       "      <td>1</td>\n",
       "      <td>22</td>\n",
       "      <td>7</td>\n",
       "      <td>7</td>\n",
       "      <td>58</td>\n",
       "      <td>2</td>\n",
       "      <td>15</td>\n",
       "      <td>0</td>\n",
       "      <td>0</td>\n",
       "      <td>0</td>\n",
       "      <td>9</td>\n",
       "      <td>0</td>\n",
       "      <td>0</td>\n",
       "      <td>0</td>\n",
       "    </tr>\n",
       "    <tr>\n",
       "      <th>20737</th>\n",
       "      <td>72848634</td>\n",
       "      <td>20377854</td>\n",
       "      <td>65</td>\n",
       "      <td>2</td>\n",
       "      <td>1</td>\n",
       "      <td>1</td>\n",
       "      <td>3</td>\n",
       "      <td>59</td>\n",
       "      <td>3</td>\n",
       "      <td>11</td>\n",
       "      <td>0</td>\n",
       "      <td>0</td>\n",
       "      <td>0</td>\n",
       "      <td>6</td>\n",
       "      <td>0</td>\n",
       "      <td>0</td>\n",
       "      <td>0</td>\n",
       "    </tr>\n",
       "    <tr>\n",
       "      <th>20824</th>\n",
       "      <td>73062156</td>\n",
       "      <td>20408121</td>\n",
       "      <td>95</td>\n",
       "      <td>1</td>\n",
       "      <td>1</td>\n",
       "      <td>7</td>\n",
       "      <td>4</td>\n",
       "      <td>56</td>\n",
       "      <td>1</td>\n",
       "      <td>9</td>\n",
       "      <td>0</td>\n",
       "      <td>0</td>\n",
       "      <td>0</td>\n",
       "      <td>6</td>\n",
       "      <td>0</td>\n",
       "      <td>0</td>\n",
       "      <td>0</td>\n",
       "    </tr>\n",
       "    <tr>\n",
       "      <th>21083</th>\n",
       "      <td>73731852</td>\n",
       "      <td>20542797</td>\n",
       "      <td>75</td>\n",
       "      <td>1</td>\n",
       "      <td>2</td>\n",
       "      <td>7</td>\n",
       "      <td>10</td>\n",
       "      <td>68</td>\n",
       "      <td>1</td>\n",
       "      <td>18</td>\n",
       "      <td>0</td>\n",
       "      <td>0</td>\n",
       "      <td>0</td>\n",
       "      <td>6</td>\n",
       "      <td>0</td>\n",
       "      <td>0</td>\n",
       "      <td>0</td>\n",
       "    </tr>\n",
       "    <tr>\n",
       "      <th>23879</th>\n",
       "      <td>81355914</td>\n",
       "      <td>7239654</td>\n",
       "      <td>75</td>\n",
       "      <td>1</td>\n",
       "      <td>3</td>\n",
       "      <td>6</td>\n",
       "      <td>12</td>\n",
       "      <td>77</td>\n",
       "      <td>5</td>\n",
       "      <td>19</td>\n",
       "      <td>0</td>\n",
       "      <td>0</td>\n",
       "      <td>0</td>\n",
       "      <td>5</td>\n",
       "      <td>0</td>\n",
       "      <td>0</td>\n",
       "      <td>0</td>\n",
       "    </tr>\n",
       "  </tbody>\n",
       "</table>\n",
       "</div>"
      ],
      "text/plain": [
       "       encounter_id  patient_nbr  age  admission_type_id  \\\n",
       "20446      72091308     20123568   75                  1   \n",
       "20737      72848634     20377854   65                  2   \n",
       "20824      73062156     20408121   95                  1   \n",
       "21083      73731852     20542797   75                  1   \n",
       "23879      81355914      7239654   75                  1   \n",
       "\n",
       "       discharge_disposition_id  admission_source_id  time_in_hospital  \\\n",
       "20446                        22                    7                 7   \n",
       "20737                         1                    1                 3   \n",
       "20824                         1                    7                 4   \n",
       "21083                         2                    7                10   \n",
       "23879                         3                    6                12   \n",
       "\n",
       "       num_lab_procedures  num_procedures  num_medications  number_outpatient  \\\n",
       "20446                  58               2               15                  0   \n",
       "20737                  59               3               11                  0   \n",
       "20824                  56               1                9                  0   \n",
       "21083                  68               1               18                  0   \n",
       "23879                  77               5               19                  0   \n",
       "\n",
       "       number_emergency  number_inpatient  number_diagnoses  clust  clusters  \\\n",
       "20446                 0                 0                 9      0         0   \n",
       "20737                 0                 0                 6      0         0   \n",
       "20824                 0                 0                 6      0         0   \n",
       "21083                 0                 0                 6      0         0   \n",
       "23879                 0                 0                 5      0         0   \n",
       "\n",
       "       cluster  \n",
       "20446        0  \n",
       "20737        0  \n",
       "20824        0  \n",
       "21083        0  \n",
       "23879        0  "
      ]
     },
     "execution_count": 131,
     "metadata": {},
     "output_type": "execute_result"
    }
   ],
   "source": [
    "df_n['cluster']=y_pre\n",
    "df_n.head()"
   ]
  },
  {
   "cell_type": "code",
   "execution_count": 132,
   "id": "dd0bbc40-a956-4214-9687-af071fe7458f",
   "metadata": {},
   "outputs": [
    {
     "data": {
      "text/plain": [
       "<matplotlib.legend.Legend at 0x7f6480f1a4f0>"
      ]
     },
     "execution_count": 132,
     "metadata": {},
     "output_type": "execute_result"
    },
    {
     "data": {
      "image/png": "[encoded data removed]",
      "text/plain": [
       "<Figure size 432x288 with 1 Axes>"
      ]
     },
     "metadata": {
      "needs_background": "light"
     },
     "output_type": "display_data"
    }
   ],
   "source": [
    "data1 = df_n[df_n.cluster==0]\n",
    "data2 = df_n[df_n.cluster==1]\n",
    "data3 = df_n[df_n.cluster==2]\n",
    "plt.scatter(data1.number_emergency,data1['number_inpatient'],color='blue')\n",
    "plt.scatter(data2.number_emergency,data2['number_inpatient'],color='red')\n",
    "plt.scatter(data3.number_emergency,data3['number_inpatient'],color='black')\n",
    "plt.scatter(model.cluster_centers_[:,0],model.cluster_centers_[:,1],color='purple',marker='*',label='centroid')\n",
    "plt.xlabel('number_emergency')\n",
    "plt.ylabel('number_inpatient')\n",
    "plt.legend()"
   ]
  },
  {
   "cell_type": "code",
   "execution_count": null,
   "id": "1cf8144e-ab13-42ce-85e5-f5d110124a25",
   "metadata": {},
   "outputs": [],
   "source": []
  }
 ],
 "metadata": {
  "kernelspec": {
   "display_name": "Python 3 (ipykernel)",
   "language": "python",
   "name": "python3"
  },
  "language_info": {
   "codemirror_mode": {
    "name": "ipython",
    "version": 3
   },
   "file_extension": ".py",
   "mimetype": "text/x-python",
   "name": "python",
   "nbconvert_exporter": "python",
   "pygments_lexer": "ipython3",
   "version": "3.8.10"
  }
 },
 "nbformat": 4,
 "nbformat_minor": 5
}
